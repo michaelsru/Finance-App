{
 "cells": [
  {
   "cell_type": "code",
   "execution_count": 1,
   "metadata": {},
   "outputs": [
    {
     "data": {
      "text/html": [
       "<div>\n",
       "<style scoped>\n",
       "    .dataframe tbody tr th:only-of-type {\n",
       "        vertical-align: middle;\n",
       "    }\n",
       "\n",
       "    .dataframe tbody tr th {\n",
       "        vertical-align: top;\n",
       "    }\n",
       "\n",
       "    .dataframe thead th {\n",
       "        text-align: right;\n",
       "    }\n",
       "</style>\n",
       "<table border=\"1\" class=\"dataframe\">\n",
       "  <thead>\n",
       "    <tr style=\"text-align: right;\">\n",
       "      <th></th>\n",
       "      <th>Open</th>\n",
       "      <th>High</th>\n",
       "      <th>Low</th>\n",
       "      <th>Close</th>\n",
       "      <th>Volume</th>\n",
       "      <th>Dividends</th>\n",
       "      <th>Stock Splits</th>\n",
       "    </tr>\n",
       "    <tr>\n",
       "      <th>Date</th>\n",
       "      <th></th>\n",
       "      <th></th>\n",
       "      <th></th>\n",
       "      <th></th>\n",
       "      <th></th>\n",
       "      <th></th>\n",
       "      <th></th>\n",
       "    </tr>\n",
       "  </thead>\n",
       "  <tbody>\n",
       "    <tr>\n",
       "      <th>2019-10-02</th>\n",
       "      <td>134.72</td>\n",
       "      <td>134.83</td>\n",
       "      <td>132.08</td>\n",
       "      <td>133.13</td>\n",
       "      <td>30521700</td>\n",
       "      <td>0.0</td>\n",
       "      <td>0</td>\n",
       "    </tr>\n",
       "    <tr>\n",
       "      <th>2019-10-03</th>\n",
       "      <td>133.43</td>\n",
       "      <td>135.21</td>\n",
       "      <td>131.72</td>\n",
       "      <td>134.75</td>\n",
       "      <td>24132900</td>\n",
       "      <td>0.0</td>\n",
       "      <td>0</td>\n",
       "    </tr>\n",
       "    <tr>\n",
       "      <th>2019-10-04</th>\n",
       "      <td>135.21</td>\n",
       "      <td>136.69</td>\n",
       "      <td>134.88</td>\n",
       "      <td>136.57</td>\n",
       "      <td>22897700</td>\n",
       "      <td>0.0</td>\n",
       "      <td>0</td>\n",
       "    </tr>\n",
       "    <tr>\n",
       "      <th>2019-10-07</th>\n",
       "      <td>135.60</td>\n",
       "      <td>136.62</td>\n",
       "      <td>135.48</td>\n",
       "      <td>135.58</td>\n",
       "      <td>15303700</td>\n",
       "      <td>0.0</td>\n",
       "      <td>0</td>\n",
       "    </tr>\n",
       "    <tr>\n",
       "      <th>2019-10-08</th>\n",
       "      <td>135.54</td>\n",
       "      <td>136.21</td>\n",
       "      <td>134.09</td>\n",
       "      <td>134.14</td>\n",
       "      <td>25550500</td>\n",
       "      <td>0.0</td>\n",
       "      <td>0</td>\n",
       "    </tr>\n",
       "    <tr>\n",
       "      <th>...</th>\n",
       "      <td>...</td>\n",
       "      <td>...</td>\n",
       "      <td>...</td>\n",
       "      <td>...</td>\n",
       "      <td>...</td>\n",
       "      <td>...</td>\n",
       "      <td>...</td>\n",
       "    </tr>\n",
       "    <tr>\n",
       "      <th>2019-12-24</th>\n",
       "      <td>156.24</td>\n",
       "      <td>156.47</td>\n",
       "      <td>155.88</td>\n",
       "      <td>156.14</td>\n",
       "      <td>8989200</td>\n",
       "      <td>0.0</td>\n",
       "      <td>0</td>\n",
       "    </tr>\n",
       "    <tr>\n",
       "      <th>2019-12-26</th>\n",
       "      <td>156.32</td>\n",
       "      <td>157.48</td>\n",
       "      <td>156.16</td>\n",
       "      <td>157.42</td>\n",
       "      <td>14520600</td>\n",
       "      <td>0.0</td>\n",
       "      <td>0</td>\n",
       "    </tr>\n",
       "    <tr>\n",
       "      <th>2019-12-27</th>\n",
       "      <td>158.19</td>\n",
       "      <td>158.29</td>\n",
       "      <td>156.97</td>\n",
       "      <td>157.71</td>\n",
       "      <td>18412800</td>\n",
       "      <td>0.0</td>\n",
       "      <td>0</td>\n",
       "    </tr>\n",
       "    <tr>\n",
       "      <th>2019-12-30</th>\n",
       "      <td>157.74</td>\n",
       "      <td>157.77</td>\n",
       "      <td>155.49</td>\n",
       "      <td>156.35</td>\n",
       "      <td>16348400</td>\n",
       "      <td>0.0</td>\n",
       "      <td>0</td>\n",
       "    </tr>\n",
       "    <tr>\n",
       "      <th>2019-12-31</th>\n",
       "      <td>155.53</td>\n",
       "      <td>156.52</td>\n",
       "      <td>155.22</td>\n",
       "      <td>156.46</td>\n",
       "      <td>18369400</td>\n",
       "      <td>0.0</td>\n",
       "      <td>0</td>\n",
       "    </tr>\n",
       "  </tbody>\n",
       "</table>\n",
       "<p>63 rows × 7 columns</p>\n",
       "</div>"
      ],
      "text/plain": [
       "              Open    High     Low   Close    Volume  Dividends  Stock Splits\n",
       "Date                                                                         \n",
       "2019-10-02  134.72  134.83  132.08  133.13  30521700        0.0             0\n",
       "2019-10-03  133.43  135.21  131.72  134.75  24132900        0.0             0\n",
       "2019-10-04  135.21  136.69  134.88  136.57  22897700        0.0             0\n",
       "2019-10-07  135.60  136.62  135.48  135.58  15303700        0.0             0\n",
       "2019-10-08  135.54  136.21  134.09  134.14  25550500        0.0             0\n",
       "...            ...     ...     ...     ...       ...        ...           ...\n",
       "2019-12-24  156.24  156.47  155.88  156.14   8989200        0.0             0\n",
       "2019-12-26  156.32  157.48  156.16  157.42  14520600        0.0             0\n",
       "2019-12-27  158.19  158.29  156.97  157.71  18412800        0.0             0\n",
       "2019-12-30  157.74  157.77  155.49  156.35  16348400        0.0             0\n",
       "2019-12-31  155.53  156.52  155.22  156.46  18369400        0.0             0\n",
       "\n",
       "[63 rows x 7 columns]"
      ]
     },
     "execution_count": 1,
     "metadata": {},
     "output_type": "execute_result"
    }
   ],
   "source": [
    "\n",
    "\n",
    "msft = yf.Ticker(\"MSFT\")\n",
    "\n",
    "msft_ohlc_df = msft.history(period=\"max\", interval='1d', start='2019-10-02', end='2020-01-01')\n",
    "msft_ohlc_df.index = pd.to_datetime(msft_ohlc_df.index, format='%Y-%M-%d')\n",
    "msft_ohlc_df\n",
    "\n"
   ]
  },
  {
   "cell_type": "markdown",
   "metadata": {},
   "source": [
    "# Initial loads"
   ]
  },
  {
   "cell_type": "code",
   "execution_count": 109,
   "metadata": {},
   "outputs": [],
   "source": [
    "import yfinance as yf\n",
    "import pandas as pd\n",
    "from stockstats import StockDataFrame as sdf\n",
    "import os\n",
    "\n",
    "from bokeh.plotting import figure, ColumnDataSource, show, output_file\n",
    "from bokeh.models.widgets import Dropdown\n",
    "from bokeh.io import curdoc\n",
    "from bokeh.layouts import column, gridplot\n",
    "\n",
    "from bokeh.models import BooleanFilter, CDSView, Select, Range1d, HoverTool, Slider\n",
    "from bokeh.palettes import Category20\n",
    "from bokeh.models.formatters import NumeralTickFormatter\n",
    "\n"
   ]
  },
  {
   "cell_type": "markdown",
   "metadata": {},
   "source": [
    "# Get df from yf "
   ]
  },
  {
   "cell_type": "code",
   "execution_count": 10,
   "metadata": {
    "scrolled": true
   },
   "outputs": [],
   "source": [
    "#Pulls ticker df\n",
    "def get_symbol_df(symbol=None,interval='1d'):\n",
    "    try:\n",
    "        tick = yf.Ticker(symbol)\n",
    "        df = tick.history(period=\"max\", interval=interval, start='2019-10-02', end='2020-01-01')\n",
    "        df.reset_index(inplace=True)\n",
    "        df['Date'] = pd.to_datetime(df[\"Date\"],format='%Y-%M-%d')\n",
    "        return df\n",
    "    except: \n",
    "        print(\"Invalid Ticker\")\n"
   ]
  },
  {
   "cell_type": "markdown",
   "metadata": {},
   "source": [
    "## Constants for Bokeh Plot"
   ]
  },
  {
   "cell_type": "code",
   "execution_count": 29,
   "metadata": {},
   "outputs": [],
   "source": [
    "class main_plot_constants:\n",
    "    def __init__(self):\n",
    "        self.W_PLOT = 800\n",
    "        self.H_PLOT = 500\n",
    "        self.TOOLS = 'pan,wheel_zoom,hover,reset'"
   ]
  },
  {
   "cell_type": "markdown",
   "metadata": {},
   "source": [
    "# Main Stock price Plot"
   ]
  },
  {
   "cell_type": "code",
   "execution_count": 31,
   "metadata": {},
   "outputs": [],
   "source": [
    "# plot basic stock prices\n",
    "def plot_stock_price(ticker):\n",
    "    #Calling constants\n",
    "    c = main_plot_constants()\n",
    "    \n",
    "    #Get ticket data\n",
    "    df = get_symbol_df(ticker)\n",
    "    \n",
    "    #Initiate CDS\n",
    "    stock = ColumnDataSource(\n",
    "    data=dict(Date=[], Open=[], Close=[], High=[], Low=[],index=[]))\n",
    "\n",
    "    stock.data = stock.from_df(df)\n",
    "    \n",
    "    #Creating Plot frame\n",
    "    p = figure(plot_width=c.W_PLOT, plot_height=c.H_PLOT, tools=c.TOOLS,\n",
    "               title=\"Stock price\", toolbar_location='above')\n",
    "\n",
    "    inc = stock.data['Close'] > stock.data['Open']\n",
    "    dec = stock.data['Open'] > stock.data['Close']\n",
    "    view_inc = CDSView(source=stock, filters=[BooleanFilter(inc)])\n",
    "    view_dec = CDSView(source=stock, filters=[BooleanFilter(dec)])\n",
    "\n",
    "    # map dataframe indices to date strings and use as label overrides\n",
    "    p.xaxis.major_label_overrides = {\n",
    "        i+int(stock.data['index'][0]): date.strftime('%b %d') for i, date in enumerate(pd.to_datetime(stock.data[\"Date\"]))\n",
    "    }\n",
    "    p.xaxis.bounds = (stock.data['index'][0], stock.data['index'][-1])\n",
    "    \n",
    "    \n",
    "    p.segment(x0='index', x1='index', y0='Low', y1='High', color=RED, source=stock, view=view_inc)\n",
    "    p.segment(x0='index', x1='index', y0='Low', y1='High', color=GREEN, source=stock, view=view_dec)\n",
    "\n",
    "    p.vbar(x='index', width=VBAR_WIDTH, top='Open', bottom='Close', fill_color=BLUE, line_color=BLUE,\n",
    "           source=stock,view=view_inc, name=\"price\")\n",
    "    p.vbar(x='index', width=VBAR_WIDTH, top='Open', bottom='Close', fill_color=RED, line_color=RED,\n",
    "           source=stock,view=view_dec, name=\"price\")\n",
    "\n",
    "    p.legend.location = \"top_left\"\n",
    "    p.legend.border_line_alpha = 0\n",
    "    p.legend.background_fill_alpha = 0\n",
    "    p.legend.click_policy = \"mute\"\n",
    "    \n",
    "    p.yaxis.formatter = NumeralTickFormatter(format='$ 0,0[.]000')\n",
    "    \n",
    "    # Add more ticks in the plot\n",
    "    p.x_range.range_padding = 0.05\n",
    "    p.xaxis.ticker.desired_num_ticks = 40\n",
    "    p.xaxis.major_label_orientation = 3.14/4\n",
    "    \n",
    "    # Select specific tool for the plot\n",
    "    price_hover = p.select(dict(type=HoverTool))\n",
    "\n",
    "    # Choose, which glyphs are active by glyph name\n",
    "    price_hover.names = [\"price\"]\n",
    "    \n",
    "    # Creating tooltips\n",
    "    price_hover.tooltips = [(\"Datetime\", \"@Date\"),\n",
    "                            (\"Open\", \"@Open{$0,0.00}\"),\n",
    "                            (\"Close\", \"@Close{$0,0.00}\"),\n",
    "                           (\"Volume\", \"@Volume{($ 0.00 a)}\")]\n",
    "    price_hover.formatters={\"Date\": 'datetime'}\n",
    "\n",
    "    \n",
    "    \n",
    "    return p\n",
    "\n",
    "\n",
    "# Define constants/configurations\n",
    "\n",
    "VBAR_WIDTH = 0.2 \n",
    "RED = Category20[7][6]\n",
    "GREEN = Category20[5][4]\n",
    "\n",
    "BLUE = Category20[3][0]\n",
    "BLUE_LIGHT = Category20[3][1]\n",
    "\n",
    "ORANGE = Category20[3][2]\n",
    "PURPLE = Category20[9][8]\n",
    "BROWN = Category20[11][10]\n",
    "\n"
   ]
  },
  {
   "cell_type": "markdown",
   "metadata": {},
   "source": [
    "# RSI Plot"
   ]
  },
  {
   "cell_type": "code",
   "execution_count": 154,
   "metadata": {},
   "outputs": [],
   "source": [
    "#RSI\n",
    "def plot_rsi(stockdf):\n",
    "    c = main_plot_constants()\n",
    "    \n",
    "    #CONSTANTS\n",
    "    p_width = c.W_PLOT\n",
    "    p_height = 100\n",
    "    \n",
    "    #wrapper of stockdf\n",
    "    stock = sdf.retype(stockdf)\n",
    "    cur_rsi = stock['rsi_14'].iloc[-1]\n",
    "    cur_high = stock['high'].iloc[-1]\n",
    "\n",
    "    p = figure(plot_width=p_width, plot_height=p_height, tools=TOOLS,\n",
    "               title=\"RSI\", toolbar_location='above',y_range=(0,100))\n",
    "    \n",
    "    #Instatiating source data\n",
    "    source=ColumnDataSource(stock)\n",
    "    \n",
    "    #x-axis format\n",
    "   \n",
    "    \n",
    "    #line_plot\n",
    "    p.line(x='date',y='rsi_14',source=source)\n",
    "    \n",
    "    #Styllizing tickers\n",
    "    p.xaxis.visible=False\n",
    "    p.axis.minor_tick_line_color = None\n",
    "\n",
    "    return p\n"
   ]
  },
  {
   "cell_type": "markdown",
   "metadata": {},
   "source": [
    "# RSI Rough work"
   ]
  },
  {
   "cell_type": "code",
   "execution_count": 153,
   "metadata": {
    "scrolled": true
   },
   "outputs": [
    {
     "data": {
      "text/html": [
       "\n",
       "\n",
       "\n",
       "\n",
       "\n",
       "\n",
       "  <div class=\"bk-root\" id=\"88445214-1ff8-4988-81d4-9369c47baf33\" data-root-id=\"12392\"></div>\n"
      ]
     },
     "metadata": {},
     "output_type": "display_data"
    },
    {
     "data": {
      "application/javascript": [
       "(function(root) {\n",
       "  function embed_document(root) {\n",
       "    \n",
       "  var docs_json = {\"e01db2bd-11e5-49c6-88d1-ec4384d5b828\":{\"roots\":{\"references\":[{\"attributes\":{\"below\":[{\"id\":\"12403\"}],\"center\":[{\"id\":\"12406\"},{\"id\":\"12410\"}],\"left\":[{\"id\":\"12407\"}],\"plot_height\":100,\"plot_width\":800,\"renderers\":[{\"id\":\"12424\"}],\"title\":{\"id\":\"12393\"},\"toolbar\":{\"id\":\"12415\"},\"toolbar_location\":\"above\",\"x_range\":{\"id\":\"12395\"},\"x_scale\":{\"id\":\"12399\"},\"y_range\":{\"id\":\"12397\"},\"y_scale\":{\"id\":\"12401\"}},\"id\":\"12392\",\"subtype\":\"Figure\",\"type\":\"Plot\"},{\"attributes\":{\"data_source\":{\"id\":\"12420\"},\"glyph\":{\"id\":\"12422\"},\"hover_glyph\":null,\"muted_glyph\":null,\"nonselection_glyph\":{\"id\":\"12423\"},\"selection_glyph\":null,\"view\":{\"id\":\"12425\"}},\"id\":\"12424\",\"type\":\"GlyphRenderer\"},{\"attributes\":{\"axis\":{\"id\":\"12407\"},\"dimension\":1,\"ticker\":null},\"id\":\"12410\",\"type\":\"Grid\"},{\"attributes\":{\"active_drag\":\"auto\",\"active_inspect\":\"auto\",\"active_multi\":null,\"active_scroll\":\"auto\",\"active_tap\":\"auto\",\"tools\":[{\"id\":\"12411\"},{\"id\":\"12412\"},{\"id\":\"12413\"},{\"id\":\"12414\"}]},\"id\":\"12415\",\"type\":\"Toolbar\"},{\"attributes\":{\"source\":{\"id\":\"12420\"}},\"id\":\"12425\",\"type\":\"CDSView\"},{\"attributes\":{\"line_alpha\":0.1,\"line_color\":\"#1f77b4\",\"x\":{\"field\":\"date\"},\"y\":{\"field\":\"rsi_14\"}},\"id\":\"12423\",\"type\":\"Line\"},{\"attributes\":{},\"id\":\"12408\",\"type\":\"BasicTicker\"},{\"attributes\":{\"end\":100},\"id\":\"12397\",\"type\":\"Range1d\"},{\"attributes\":{\"bounds\":[0,100],\"formatter\":{\"id\":\"12734\"},\"minor_tick_line_color\":null,\"ticker\":{\"id\":\"12408\"}},\"id\":\"12407\",\"type\":\"LinearAxis\"},{\"attributes\":{\"axis\":{\"id\":\"12403\"},\"ticker\":null},\"id\":\"12406\",\"type\":\"Grid\"},{\"attributes\":{},\"id\":\"12736\",\"type\":\"BasicTickFormatter\"},{\"attributes\":{},\"id\":\"12414\",\"type\":\"ResetTool\"},{\"attributes\":{},\"id\":\"12738\",\"type\":\"UnionRenderers\"},{\"attributes\":{},\"id\":\"12404\",\"type\":\"BasicTicker\"},{\"attributes\":{},\"id\":\"12739\",\"type\":\"Selection\"},{\"attributes\":{},\"id\":\"12401\",\"type\":\"LinearScale\"},{\"attributes\":{\"formatter\":{\"id\":\"12736\"},\"major_label_overrides\":{\"1569974400000000000\":\"Oct 02\",\"1569974400000000001\":\"Oct 03\",\"1569974400000000002\":\"Oct 04\",\"1569974400000000003\":\"Oct 07\",\"1569974400000000004\":\"Oct 08\",\"1569974400000000005\":\"Oct 09\",\"1569974400000000006\":\"Oct 10\",\"1569974400000000007\":\"Oct 11\",\"1569974400000000008\":\"Oct 14\",\"1569974400000000009\":\"Oct 15\",\"1569974400000000010\":\"Oct 16\",\"1569974400000000011\":\"Oct 17\",\"1569974400000000012\":\"Oct 18\",\"1569974400000000013\":\"Oct 21\",\"1569974400000000014\":\"Oct 22\",\"1569974400000000015\":\"Oct 23\",\"1569974400000000016\":\"Oct 24\",\"1569974400000000017\":\"Oct 25\",\"1569974400000000018\":\"Oct 28\",\"1569974400000000019\":\"Oct 29\",\"1569974400000000020\":\"Oct 30\",\"1569974400000000021\":\"Oct 31\",\"1569974400000000022\":\"Nov 01\",\"1569974400000000023\":\"Nov 04\",\"1569974400000000024\":\"Nov 05\",\"1569974400000000025\":\"Nov 06\",\"1569974400000000026\":\"Nov 07\",\"1569974400000000027\":\"Nov 08\",\"1569974400000000028\":\"Nov 11\",\"1569974400000000029\":\"Nov 12\",\"1569974400000000030\":\"Nov 13\",\"1569974400000000031\":\"Nov 14\",\"1569974400000000032\":\"Nov 15\",\"1569974400000000033\":\"Nov 18\",\"1569974400000000034\":\"Nov 19\",\"1569974400000000035\":\"Nov 20\",\"1569974400000000036\":\"Nov 21\",\"1569974400000000037\":\"Nov 22\",\"1569974400000000038\":\"Nov 25\",\"1569974400000000039\":\"Nov 26\",\"1569974400000000040\":\"Nov 27\",\"1569974400000000041\":\"Nov 29\",\"1569974400000000042\":\"Dec 02\",\"1569974400000000043\":\"Dec 03\",\"1569974400000000044\":\"Dec 04\",\"1569974400000000045\":\"Dec 05\",\"1569974400000000046\":\"Dec 06\",\"1569974400000000047\":\"Dec 09\",\"1569974400000000048\":\"Dec 10\",\"1569974400000000049\":\"Dec 11\",\"1569974400000000050\":\"Dec 12\",\"1569974400000000051\":\"Dec 13\",\"1569974400000000052\":\"Dec 16\",\"1569974400000000053\":\"Dec 17\",\"1569974400000000054\":\"Dec 18\",\"1569974400000000055\":\"Dec 19\",\"1569974400000000056\":\"Dec 20\",\"1569974400000000057\":\"Dec 23\",\"1569974400000000058\":\"Dec 24\",\"1569974400000000059\":\"Dec 26\",\"1569974400000000060\":\"Dec 27\",\"1569974400000000061\":\"Dec 30\",\"1569974400000000062\":\"Dec 31\"},\"minor_tick_line_color\":null,\"ticker\":{\"id\":\"12404\"},\"visible\":false},\"id\":\"12403\",\"type\":\"LinearAxis\"},{\"attributes\":{},\"id\":\"12411\",\"type\":\"PanTool\"},{\"attributes\":{},\"id\":\"12395\",\"type\":\"DataRange1d\"},{\"attributes\":{\"line_color\":\"#1f77b4\",\"x\":{\"field\":\"date\"},\"y\":{\"field\":\"rsi_14\"}},\"id\":\"12422\",\"type\":\"Line\"},{\"attributes\":{\"callback\":null},\"id\":\"12413\",\"type\":\"HoverTool\"},{\"attributes\":{\"data\":{\"close\":{\"__ndarray__\":\"XI/C9SikYEAAAAAAANhgQArXo3A9EmFAw/UoXI/yYEAUrkfhesRgQPYoXI/CFWFAKVyPwvUwYUDsUbgehUNhQI/C9ShcP2FAj8L1KFx/YUDD9Shcj1phQKRwPQrXQ2FA7FG4HoX7YECkcD0K1xthQMP1KFyP2mBAZmZmZmb2YEDsUbgehUthQM3MzMzMZGFACtejcD3SYUDXo3A9CqdhQI/C9Shc32FAuB6F61G4YUAzMzMzM8NhQD0K16Nw3WFAw/UoXI/aYUCuR+F6FM5hQBSuR+F61GFACtejcD0KYkDXo3A9Cg9iQIXrUbgeLWJAzczMzMw0YkAUrkfhekxiQClcj8L1iGJAzczMzMyUYkBmZmZmZpZiQK5H4XoUjmJAmpmZmZmJYkCF61G4Ho1iQOF6FK5HwWJAw/UoXI/aYkCkcD0K1+NiQK5H4XoUxmJApHA9CteLYkBcj8L1KIRiQD0K16NwlWJAAAAAAACYYkCamZmZmdFiQD0K16NwxWJArkfhehS+YkAAAAAAANBiQClcj8L1AGNAUrgehespY0CamZmZmUljQNejcD0KL2NAzczMzMwkY0CPwvUoXE9jQD0K16NwhWNAPQrXo3CFY0AUrkfheoRjQD0K16NwrWNAH4XrUbi2Y0AzMzMzM4tjQB+F61G4jmNA\",\"dtype\":\"float64\",\"shape\":[63]},\"close_-1_d\":{\"__ndarray__\":\"AAAAAAAA+H8AUrgehev5PwCF61G4Hv0/AEfhehSu77+A16NwPQr3v4C4HoXrUQRAADMzMzMz6z8Aw/UoXI/iPwB0PQrXo8C/AAAAAAAAAEAAZmZmZmbyvwAfhetRuOa/AK5H4XoUAsAAXI/C9SjwP0C4HoXrUQDAAKNwPQrX6z+A4XoUrkcFQADhehSuR+k/QI/C9ShcC0CAmZmZmZn1vwBcj8L1KPw/gOtRuB6F878A9ihcj8LVPwAK16NwPeo/ANCjcD0Kt78AKlyPwvXYvwCYmZmZmck/AHsUrkfh+j8ANDMzMzPDPwCuR+F6FO4/ACCF61G4zj8AR+F6FK7nP4AK16NwPf4/AEjhehSu1z8AkJmZmZmpPwBwPQrXo9C/AFC4HoXrwb8AWI/C9Si8PwCuR+F6FPo/AOJ6FK5H6T8AwvUoXI/SPwD2KFyPwu2/AIXrUbge/b8AIIXrUbjOvwDhehSuR+E/ABiuR+F6tD8AzczMzMz8PwC6HoXrUdi/ADwK16Nwzb8AUrgehevhP4AUrkfhevg/gBSuR+F69D8ASOF6FK7vPwDD9Shcj+q/ABSuR+F61L8A4XoUrkf1PwDXo3A9Cvs/AAAAAAAAAAAAIIXrUbiev4AUrkfhevQ/AMT1KFyP0j8A9ihcj8L1vwBgj8L1KLw/\",\"dtype\":\"float64\",\"shape\":[63]},\"close_-1_s\":{\"__ndarray__\":\"AAAAAAAA+H9cj8L1KKRgQAAAAAAA2GBACtejcD0SYUDD9Shcj/JgQBSuR+F6xGBA9ihcj8IVYUApXI/C9TBhQOxRuB6FQ2FAj8L1KFw/YUCPwvUoXH9hQMP1KFyPWmFApHA9CtdDYUDsUbgehftgQKRwPQrXG2FAw/UoXI/aYEBmZmZmZvZgQOxRuB6FS2FAzczMzMxkYUAK16NwPdJhQNejcD0Kp2FAj8L1KFzfYUC4HoXrUbhhQDMzMzMzw2FAPQrXo3DdYUDD9Shcj9phQK5H4XoUzmFAFK5H4XrUYUAK16NwPQpiQNejcD0KD2JAhetRuB4tYkDNzMzMzDRiQBSuR+F6TGJAKVyPwvWIYkDNzMzMzJRiQGZmZmZmlmJArkfhehSOYkCamZmZmYliQIXrUbgejWJA4XoUrkfBYkDD9Shcj9piQKRwPQrX42JArkfhehTGYkCkcD0K14tiQFyPwvUohGJAPQrXo3CVYkAAAAAAAJhiQJqZmZmZ0WJAPQrXo3DFYkCuR+F6FL5iQAAAAAAA0GJAKVyPwvUAY0BSuB6F6yljQJqZmZmZSWNA16NwPQovY0DNzMzMzCRjQI/C9ShcT2NAPQrXo3CFY0A9CtejcIVjQBSuR+F6hGNAPQrXo3CtY0AfhetRuLZjQDMzMzMzi2NA\",\"dtype\":\"float64\",\"shape\":[63]},\"date\":{\"__ndarray__\":\"AABAQ5zYdkIAAACp7th2QgAAwA5B2XZCAAAAQDjadkIAAMClitp2QgAAgAvd2nZCAABAcS/bdkIAAADXgdt2QgAAQAh53HZCAAAAbsvcdkIAAMDTHd12QgAAgDlw3XZCAABAn8LddkIAAIDQud52QgAAQDYM33ZCAAAAnF7fdkIAAMABsd92QgAAgGcD4HZCAADAmPrgdkIAAID+TOF2QgAAQGSf4XZCAAAAyvHhdkIAAMAvROJ2QgAAAGE743ZCAADAxo3jdkIAAIAs4ON2QgAAQJIy5HZCAAAA+ITkdkIAAEApfOV2QgAAAI/O5XZCAADA9CDmdkIAAIBac+Z2QgAAQMDF5nZCAACA8bzndkIAAEBXD+h2QgAAAL1h6HZCAADAIrTodkIAAICIBul2QgAAwLn96XZCAACAH1DqdkIAAECFoup2QgAAwFBH63ZCAAAAgj7sdkIAAMDnkOx2QgAAgE3j7HZCAABAszXtdkIAAAAZiO12QgAAQEp/7nZCAAAAsNHudkIAAMAVJO92QgAAgHt273ZCAABA4cjvdkIAAIASwPB2QgAAQHgS8XZCAAAA3mTxdkIAAMBDt/F2QgAAgKkJ8nZCAADA2gDzdkIAAIBAU/N2QgAAAAz483ZCAADAcUr0dkIAAACjQfV2QgAAwAiU9XZC\",\"dtype\":\"float64\",\"shape\":[63]},\"dividends\":{\"__ndarray__\":\"AAAAAAAAAAAAAAAAAAAAAAAAAAAAAAAAAAAAAAAAAAAAAAAAAAAAAAAAAAAAAAAAAAAAAAAAAAAAAAAAAAAAAAAAAAAAAAAAAAAAAAAAAAAAAAAAAAAAAAAAAAAAAAAAAAAAAAAAAAAAAAAAAAAAAAAAAAAAAAAAAAAAAAAAAAAAAAAAAAAAAAAAAAAAAAAAAAAAAAAAAAAAAAAAAAAAAAAAAAAAAAAAAAAAAAAAAAAAAAAAAAAAAAAAAAAAAAAAAAAAAAAAAAAAAAAAAAAAAAAAAAAAAAAAAAAAAAAAAAAAAAAAAAAAAAAAAAAAAAAAAAAAAAAAAAAAAAAAAAAAAAAAAAAAAAAAAAAAAAAAAAAAAAAAAAAAAFK4HoXrUeA/AAAAAAAAAAAAAAAAAAAAAAAAAAAAAAAAAAAAAAAAAAAAAAAAAAAAAAAAAAAAAAAAAAAAAAAAAAAAAAAAAAAAAAAAAAAAAAAAAAAAAAAAAAAAAAAAAAAAAAAAAAAAAAAAAAAAAAAAAAAAAAAAAAAAAAAAAAAAAAAAAAAAAAAAAAAAAAAAAAAAAAAAAAAAAAAAAAAAAAAAAAAAAAAAAAAAAAAAAAAAAAAAAAAAAAAAAAAAAAAAAAAAAAAAAAAAAAAAAAAAAAAAAAAAAAAAAAAAAAAAAAAAAAAA\",\"dtype\":\"float64\",\"shape\":[63]},\"high\":{\"__ndarray__\":\"w/UoXI/aYEAfhetRuOZgQK5H4XoUFmFApHA9CtcTYUAfhetRuAZhQBSuR+F6JGFAMzMzMzNDYUCuR+F6FG5hQB+F61G4VmFArkfhehSGYUDNzMzMzGxhQMP1KFyPemFAPQrXo3BNYUCuR+F6FB5hQPYoXI/CTWFAzczMzMz8YEB7FK5H4VphQJqZmZmZcWFAKVyPwvUAYkCkcD0K19thQKRwPQrX62FAmpmZmZnpYUDhehSuR9lhQKRwPQrX62FAFK5H4XrsYUAUrkfhetxhQAAAAAAA6GFAMzMzMzMLYkBxPQrXoxhiQIXrUbgePWJAmpmZmZk5YkBI4XoUrldiQJqZmZmZiWJA7FG4HoWbYkBcj8L1KLRiQM3MzMzMtGJApHA9CteTYkDsUbgehaNiQIXrUbgexWJA16NwPQrnYkCamZmZmeliQDMzMzMz42JAXI/C9SjUYkAAAAAAAIhiQEjhehSun2JAXI/C9SikYkA9CtejcNViQLgehetR4GJArkfhehTWYkA9CtejcNViQI/C9ShcB2NAPQrXo3A1Y0A9CtejcFVjQI/C9ShcT2NAAAAAAABIY0DhehSuR1FjQEjhehSup2NApHA9CtebY0DXo3A9Co9jQI/C9Shcr2NA4XoUrkfJY0BxPQrXo7hjQHE9CtejkGNA\",\"dtype\":\"float64\",\"shape\":[63]},\"low\":{\"__ndarray__\":\"w/UoXI+CYEDXo3A9CndgQFyPwvUo3GBAj8L1KFzvYEB7FK5H4cJgQPYoXI/C7WBArkfhehQWYUD2KFyPwj1hQGZmZmZmPmFASOF6FK5HYUAfhetRuD5hQB+F61G4LmFAcT0K16PgYEDXo3A9Cu9gQI/C9Shc12BAw/UoXI/CYEDsUbgehSNhQFyPwvUoNGFAFK5H4Xq8YUDhehSuR6FhQPYoXI/CpWFAXI/C9SisYUDsUbgehathQOF6FK5H0WFA4XoUrkfJYUB7FK5H4bJhQM3MzMzMxGFAFK5H4XrEYUAzMzMzM+NhQD0K16NwDWJAXI/C9SgUYkAzMzMzMytiQDMzMzMzU2JAmpmZmZlpYkC4HoXrUZBiQOF6FK5HaWJAw/UoXI9qYkDNzMzMzHRiQEjhehSul2JAXI/C9SjEYkAK16NwPcpiQHsUrkfhwmJAzczMzMxkYkBI4XoUri9iQHE9CtejgGJAmpmZmZmJYkDD9Shcj6JiQNejcD0Kt2JACtejcD2yYkAUrkfheqRiQMP1KFyPumJApHA9CtfzYkAzMzMzMzNjQI/C9ShcJ2NAH4XrUbgeY0DhehSuRxFjQFK4HoXrYWNAKVyPwvWAY0Bcj8L1KHxjQIXrUbgehWNA16NwPQqfY0BI4XoUrm9jQNejcD0KZ2NA\",\"dtype\":\"float64\",\"shape\":[63]},\"open\":{\"__ndarray__\":\"16NwPQrXYED2KFyPwq1gQB+F61G45mBAMzMzMzPzYEDhehSuR/FgQIXrUbge/WBA9ihcj8IdYUDhehSuR1FhQKRwPQrXQ2FAj8L1KFxPYUAfhetRuGZhQOxRuB6Fa2FArkfhehRGYUAUrkfhehxhQIXrUbgeLWFAexSuR+HqYEAK16NwPTphQHE9CtejOGFAcT0K16PYYUAfhetRuM5hQM3MzMzMvGFAcT0K16PoYUAUrkfhetRhQGZmZmZm5mFAexSuR+HqYUBI4XoUrtdhQNejcD0Kx2FA7FG4HoXLYUBmZmZmZvZhQFyPwvUoFGJAexSuR+EiYkCkcD0K1ytiQAAAAAAAaGJAXI/C9SiMYkD2KFyPwqViQKRwPQrXo2JA16NwPQqHYkAUrkfhepxiQArXo3A9mmJAPQrXo3DFYkBcj8L1KORiQM3MzMzM3GJA7FG4HoXTYkDD9Shcj0piQB+F61G4nmJApHA9CtebYkCamZmZmbliQFyPwvUovGJAMzMzMzPDYkB7FK5H4cpiQGZmZmZmzmJA4XoUrkf5YkAUrkfhejxjQNejcD0KR2NAw/UoXI8iY0ApXI/C9RhjQOxRuB6Fg2NApHA9CtebY0BI4XoUrodjQArXo3A9imNArkfhehTGY0BI4XoUrrdjQClcj8L1cGNA\",\"dtype\":\"float64\",\"shape\":[63]},\"rs_14\":{\"__ndarray__\":\"AAAAAAAA+H8AAAAAAADwfwAAAAAAAPB/CDWv2LLxCEBuY7IsUnDzP4shOfyi/gJAl34PWF5WBkAH06IoMssIQLpuosY8FQdA52SXikEdEEDifWyKx94CQC/gnvw2lv0/lPBDYYH/8D/RTPecRUb0P66PGaqnDew/R0p0RIpK8D8w2v1mVr/3P0q2l/PXIfo/zXOcgAygAkA4Hhx3hsH8PwGaSylz8ABAOg1YtepX+z+nMfuZDEX8P6EPeBzzrP4/yuJ9wtAj/j80zi9jad77P+H7En/diPw/tEy8OWhHAUCY4FQPipEBQMFmexzWhQNAIe7yyGUPBEAHZIbhK9gFQNlb6GuJwApA/+vcW2nJC0CCIzR19e8LQLY6r9IARglAVcl6YgDzB0DplKixzE0IQHVfYVvC9g1AtU5XiYR1EEDPf4BwAQsRQOv1RBs4qQZA8/+V91qP+j82zGnJ0hX5P/eOtcXmPPs/Uzwxn9KU+z8TPqSQnPMBQIEgpGimDQBAbAj5RE0J/j8FIYip614AQBHCzJvAWQRA/HxMnKzvB0AE4bbMPewKQG0GamDBIgRAJQ+s4FU6AkBwIRAm5p4FQE6mcK11QwpATqZwrXVDCkBdyTeEE/QJQA0TCdAkSw5Aba1NzTtaD0B9hZpwasoCQL2vTsjjEQNA\",\"dtype\":\"float64\",\"shape\":[63]},\"rsi_14\":{\"__ndarray__\":\"AAAAAAAA+H8AAAAAAABZQAAAAAAAAFlAecvEl9rtUkAb2zAJBG1LQA4gq2BUl1FAUjUUGlBoUkA42f3jueZSQEi9V4/LkFJAVzdIv0UHVECl7fmxi45RQAoUDQ28OVBAye8/dpPBSUBVGYYcKfJLQIaSAJVlW0dAVVYwmLU5SUCR+oGadt9NQEKjhiMcA09AB+dNUwJ9UUCKza5VCRBQQGopaQcD+1BAUc+rUfKKT0CZOKQ90O1PQDa2/y4iblBAS3xmtalUUEB/plCXiMNPQIrF522qBFBAyWYbIJkWUUCYl2V7iS1RQHa/4Vq5u1FArmHDHVnfUUCkaKS3b0xSQOossyW1PlNA8ME/rk1pU0DYc85HTG9TQN7gGFE8/VJAODPQCnW9UkBouDViDc9SQFXppbhZu1NAo5SaYLgcVED2tyRhcT9UQLObB3wgelJAIQ8fxvczT0BAk0kOPodOQK64mBFqf09AIYdLsL2kT0ABiwnhGEtRQCycOFBlr1BAVaF/h6tPUECIq0yuH8tQQJA1GpwK8lFAOSI+Fc68UkC4xuvq6EVTQAhERoBA5FFATqzL1+BfUUB1smuhej9SQBdK5fiyKVNAF0rl+LIpU0CaRSdIDRxTQIIQtqP1xlNAWuQlMfDqU0Ah4aZa44hRQPyFU1yZnFFA\",\"dtype\":\"float64\",\"shape\":[63]},\"stock splits\":[0,0,0,0,0,0,0,0,0,0,0,0,0,0,0,0,0,0,0,0,0,0,0,0,0,0,0,0,0,0,0,0,0,0,0,0,0,0,0,0,0,0,0,0,0,0,0,0,0,0,0,0,0,0,0,0,0,0,0,0,0,0,0],\"volume\":[30521700,24132900,22897700,15303700,25550500,19749900,17654600,25446000,13304300,19695700,20751600,21460600,32273500,20078200,27431000,29844600,37029300,25959700,35280100,20589500,18496600,24605100,33128400,16912000,18250200,16575800,17786700,16732700,14362600,18641600,16919200,19729800,23485700,21534000,23935700,25696800,18576100,15901800,22420900,24620100,15184400,11977300,27418400,24066000,17574700,17869100,16403500,16687400,16476100,18856600,24612100,23845400,24144200,25425600,24129200,24958900,53477500,17718200,8989200,14520600,18412800,16348400,18369400]},\"selected\":{\"id\":\"12739\"},\"selection_policy\":{\"id\":\"12738\"}},\"id\":\"12420\",\"type\":\"ColumnDataSource\"},{\"attributes\":{},\"id\":\"12412\",\"type\":\"WheelZoomTool\"},{\"attributes\":{\"text\":\"RSI\"},\"id\":\"12393\",\"type\":\"Title\"},{\"attributes\":{},\"id\":\"12399\",\"type\":\"LinearScale\"},{\"attributes\":{},\"id\":\"12734\",\"type\":\"BasicTickFormatter\"}],\"root_ids\":[\"12392\"]},\"title\":\"Bokeh Application\",\"version\":\"2.0.2\"}};\n",
       "  var render_items = [{\"docid\":\"e01db2bd-11e5-49c6-88d1-ec4384d5b828\",\"root_ids\":[\"12392\"],\"roots\":{\"12392\":\"88445214-1ff8-4988-81d4-9369c47baf33\"}}];\n",
       "  root.Bokeh.embed.embed_items_notebook(docs_json, render_items);\n",
       "\n",
       "  }\n",
       "  if (root.Bokeh !== undefined) {\n",
       "    embed_document(root);\n",
       "  } else {\n",
       "    var attempts = 0;\n",
       "    var timer = setInterval(function(root) {\n",
       "      if (root.Bokeh !== undefined) {\n",
       "        clearInterval(timer);\n",
       "        embed_document(root);\n",
       "      } else {\n",
       "        attempts++;\n",
       "        if (attempts > 100) {\n",
       "          clearInterval(timer);\n",
       "          console.log(\"Bokeh: ERROR: Unable to run BokehJS code because BokehJS library is missing\");\n",
       "        }\n",
       "      }\n",
       "    }, 10, root)\n",
       "  }\n",
       "})(window);"
      ],
      "application/vnd.bokehjs_exec.v0+json": ""
     },
     "metadata": {
      "application/vnd.bokehjs_exec.v0+json": {
       "id": "12392"
      }
     },
     "output_type": "display_data"
    }
   ],
   "source": [
    "df = get_symbol_df(ticker)\n",
    "stock = sdf.retype(df)\n",
    "cur_rsi = stock['rsi_14'].iloc[-1]\n",
    "cur_high = stock['high'].iloc[-1]\n",
    "\n",
    "p = figure(plot_width=c.W_PLOT, plot_height=100, tools=TOOLS,\n",
    "           title=\"RSI\", toolbar_location='above',y_range=(0,100))\n",
    "\n",
    "#Instatiating source data\n",
    "\n",
    "source=ColumnDataSource(stock)\n",
    "\n",
    "p.xaxis.major_label_overrides = {\n",
    "    i+int(source.data['date'][0]): date.strftime('%b %d') for i, date in enumerate(pd.to_datetime(source.data[\"date\"]))\n",
    "}\n",
    "\n",
    "p.line(x='date',y='rsi_14',source=source)\n",
    "#Styllizing tickers\n",
    "#p.xaxis.visible=True\n",
    "p.axis.minor_tick_line_color = None\n",
    "p.xaxis.visible=False\n",
    "p.axis.minor_tick_line_color = None\n",
    "p.yaxis.bounds=(0,100)\n",
    "\n",
    "show(p)"
   ]
  },
  {
   "cell_type": "markdown",
   "metadata": {},
   "source": [
    "# Main"
   ]
  },
  {
   "cell_type": "code",
   "execution_count": 155,
   "metadata": {},
   "outputs": [
    {
     "data": {
      "text/html": [
       "\n",
       "\n",
       "\n",
       "\n",
       "\n",
       "\n",
       "  <div class=\"bk-root\" id=\"0881cc37-8409-4a6f-b5f9-3c3eaf5f8a61\" data-root-id=\"12892\"></div>\n"
      ]
     },
     "metadata": {},
     "output_type": "display_data"
    },
    {
     "data": {
      "application/javascript": [
       "(function(root) {\n",
       "  function embed_document(root) {\n",
       "    \n",
       "  var docs_json = {\"7e0c6ede-fe84-470f-b0b8-ad1cf7cd7f82\":{\"roots\":{\"references\":[{\"attributes\":{\"children\":[{\"id\":\"12891\"},{\"id\":\"12889\"}],\"sizing_mode\":\"scale_width\"},\"id\":\"12892\",\"type\":\"Column\"},{\"attributes\":{\"bottom\":{\"field\":\"Close\"},\"fill_color\":{\"value\":\"#d62728\"},\"line_color\":{\"value\":\"#d62728\"},\"top\":{\"field\":\"Open\"},\"width\":{\"value\":0.2},\"x\":{\"field\":\"index\"}},\"id\":\"12828\",\"type\":\"VBar\"},{\"attributes\":{\"source\":{\"id\":\"12868\"}},\"id\":\"12873\",\"type\":\"CDSView\"},{\"attributes\":{},\"id\":\"12792\",\"type\":\"LinearScale\"},{\"attributes\":{},\"id\":\"12847\",\"type\":\"LinearScale\"},{\"attributes\":{},\"id\":\"12836\",\"type\":\"BasicTickFormatter\"},{\"attributes\":{\"filters\":[{\"id\":\"12813\"}],\"source\":{\"id\":\"12782\"}},\"id\":\"12814\",\"type\":\"CDSView\"},{\"attributes\":{\"toolbars\":[{\"id\":\"12806\"},{\"id\":\"12863\"}],\"tools\":[{\"id\":\"12802\"},{\"id\":\"12803\"},{\"id\":\"12804\"},{\"id\":\"12805\"},{\"id\":\"12859\"},{\"id\":\"12860\"},{\"id\":\"12861\"},{\"id\":\"12862\"}]},\"id\":\"12890\",\"type\":\"ProxyToolbar\"},{\"attributes\":{},\"id\":\"12838\",\"type\":\"UnionRenderers\"},{\"attributes\":{\"data\":{\"Close\":{\"__ndarray__\":\"XI/C9SikYEAAAAAAANhgQArXo3A9EmFAw/UoXI/yYEAUrkfhesRgQPYoXI/CFWFAKVyPwvUwYUDsUbgehUNhQI/C9ShcP2FAj8L1KFx/YUDD9Shcj1phQKRwPQrXQ2FA7FG4HoX7YECkcD0K1xthQMP1KFyP2mBAZmZmZmb2YEDsUbgehUthQM3MzMzMZGFACtejcD3SYUDXo3A9CqdhQI/C9Shc32FAuB6F61G4YUAzMzMzM8NhQD0K16Nw3WFAw/UoXI/aYUCuR+F6FM5hQBSuR+F61GFACtejcD0KYkDXo3A9Cg9iQIXrUbgeLWJAzczMzMw0YkAUrkfhekxiQClcj8L1iGJAzczMzMyUYkBmZmZmZpZiQK5H4XoUjmJAmpmZmZmJYkCF61G4Ho1iQOF6FK5HwWJAw/UoXI/aYkCkcD0K1+NiQK5H4XoUxmJApHA9CteLYkBcj8L1KIRiQD0K16NwlWJAAAAAAACYYkCamZmZmdFiQD0K16NwxWJArkfhehS+YkAAAAAAANBiQClcj8L1AGNAUrgehespY0CamZmZmUljQNejcD0KL2NAzczMzMwkY0CPwvUoXE9jQD0K16NwhWNAPQrXo3CFY0AUrkfheoRjQD0K16NwrWNAH4XrUbi2Y0AzMzMzM4tjQB+F61G4jmNA\",\"dtype\":\"float64\",\"shape\":[63]},\"Date\":{\"__ndarray__\":\"AABAQ5zYdkIAAACp7th2QgAAwA5B2XZCAAAAQDjadkIAAMClitp2QgAAgAvd2nZCAABAcS/bdkIAAADXgdt2QgAAQAh53HZCAAAAbsvcdkIAAMDTHd12QgAAgDlw3XZCAABAn8LddkIAAIDQud52QgAAQDYM33ZCAAAAnF7fdkIAAMABsd92QgAAgGcD4HZCAADAmPrgdkIAAID+TOF2QgAAQGSf4XZCAAAAyvHhdkIAAMAvROJ2QgAAAGE743ZCAADAxo3jdkIAAIAs4ON2QgAAQJIy5HZCAAAA+ITkdkIAAEApfOV2QgAAAI/O5XZCAADA9CDmdkIAAIBac+Z2QgAAQMDF5nZCAACA8bzndkIAAEBXD+h2QgAAAL1h6HZCAADAIrTodkIAAICIBul2QgAAwLn96XZCAACAH1DqdkIAAECFoup2QgAAwFBH63ZCAAAAgj7sdkIAAMDnkOx2QgAAgE3j7HZCAABAszXtdkIAAAAZiO12QgAAQEp/7nZCAAAAsNHudkIAAMAVJO92QgAAgHt273ZCAABA4cjvdkIAAIASwPB2QgAAQHgS8XZCAAAA3mTxdkIAAMBDt/F2QgAAgKkJ8nZCAADA2gDzdkIAAIBAU/N2QgAAAAz483ZCAADAcUr0dkIAAACjQfV2QgAAwAiU9XZC\",\"dtype\":\"float64\",\"shape\":[63]},\"Dividends\":{\"__ndarray__\":\"AAAAAAAAAAAAAAAAAAAAAAAAAAAAAAAAAAAAAAAAAAAAAAAAAAAAAAAAAAAAAAAAAAAAAAAAAAAAAAAAAAAAAAAAAAAAAAAAAAAAAAAAAAAAAAAAAAAAAAAAAAAAAAAAAAAAAAAAAAAAAAAAAAAAAAAAAAAAAAAAAAAAAAAAAAAAAAAAAAAAAAAAAAAAAAAAAAAAAAAAAAAAAAAAAAAAAAAAAAAAAAAAAAAAAAAAAAAAAAAAAAAAAAAAAAAAAAAAAAAAAAAAAAAAAAAAAAAAAAAAAAAAAAAAAAAAAAAAAAAAAAAAAAAAAAAAAAAAAAAAAAAAAAAAAAAAAAAAAAAAAAAAAAAAAAAAAAAAAAAAAAAAAAAAAAAAAFK4HoXrUeA/AAAAAAAAAAAAAAAAAAAAAAAAAAAAAAAAAAAAAAAAAAAAAAAAAAAAAAAAAAAAAAAAAAAAAAAAAAAAAAAAAAAAAAAAAAAAAAAAAAAAAAAAAAAAAAAAAAAAAAAAAAAAAAAAAAAAAAAAAAAAAAAAAAAAAAAAAAAAAAAAAAAAAAAAAAAAAAAAAAAAAAAAAAAAAAAAAAAAAAAAAAAAAAAAAAAAAAAAAAAAAAAAAAAAAAAAAAAAAAAAAAAAAAAAAAAAAAAAAAAAAAAAAAAAAAAAAAAAAAAAAAAAAAAA\",\"dtype\":\"float64\",\"shape\":[63]},\"High\":{\"__ndarray__\":\"w/UoXI/aYEAfhetRuOZgQK5H4XoUFmFApHA9CtcTYUAfhetRuAZhQBSuR+F6JGFAMzMzMzNDYUCuR+F6FG5hQB+F61G4VmFArkfhehSGYUDNzMzMzGxhQMP1KFyPemFAPQrXo3BNYUCuR+F6FB5hQPYoXI/CTWFAzczMzMz8YEB7FK5H4VphQJqZmZmZcWFAKVyPwvUAYkCkcD0K19thQKRwPQrX62FAmpmZmZnpYUDhehSuR9lhQKRwPQrX62FAFK5H4XrsYUAUrkfhetxhQAAAAAAA6GFAMzMzMzMLYkBxPQrXoxhiQIXrUbgePWJAmpmZmZk5YkBI4XoUrldiQJqZmZmZiWJA7FG4HoWbYkBcj8L1KLRiQM3MzMzMtGJApHA9CteTYkDsUbgehaNiQIXrUbgexWJA16NwPQrnYkCamZmZmeliQDMzMzMz42JAXI/C9SjUYkAAAAAAAIhiQEjhehSun2JAXI/C9SikYkA9CtejcNViQLgehetR4GJArkfhehTWYkA9CtejcNViQI/C9ShcB2NAPQrXo3A1Y0A9CtejcFVjQI/C9ShcT2NAAAAAAABIY0DhehSuR1FjQEjhehSup2NApHA9CtebY0DXo3A9Co9jQI/C9Shcr2NA4XoUrkfJY0BxPQrXo7hjQHE9CtejkGNA\",\"dtype\":\"float64\",\"shape\":[63]},\"Low\":{\"__ndarray__\":\"w/UoXI+CYEDXo3A9CndgQFyPwvUo3GBAj8L1KFzvYEB7FK5H4cJgQPYoXI/C7WBArkfhehQWYUD2KFyPwj1hQGZmZmZmPmFASOF6FK5HYUAfhetRuD5hQB+F61G4LmFAcT0K16PgYEDXo3A9Cu9gQI/C9Shc12BAw/UoXI/CYEDsUbgehSNhQFyPwvUoNGFAFK5H4Xq8YUDhehSuR6FhQPYoXI/CpWFAXI/C9SisYUDsUbgehathQOF6FK5H0WFA4XoUrkfJYUB7FK5H4bJhQM3MzMzMxGFAFK5H4XrEYUAzMzMzM+NhQD0K16NwDWJAXI/C9SgUYkAzMzMzMytiQDMzMzMzU2JAmpmZmZlpYkC4HoXrUZBiQOF6FK5HaWJAw/UoXI9qYkDNzMzMzHRiQEjhehSul2JAXI/C9SjEYkAK16NwPcpiQHsUrkfhwmJAzczMzMxkYkBI4XoUri9iQHE9CtejgGJAmpmZmZmJYkDD9Shcj6JiQNejcD0Kt2JACtejcD2yYkAUrkfheqRiQMP1KFyPumJApHA9CtfzYkAzMzMzMzNjQI/C9ShcJ2NAH4XrUbgeY0DhehSuRxFjQFK4HoXrYWNAKVyPwvWAY0Bcj8L1KHxjQIXrUbgehWNA16NwPQqfY0BI4XoUrm9jQNejcD0KZ2NA\",\"dtype\":\"float64\",\"shape\":[63]},\"Open\":{\"__ndarray__\":\"16NwPQrXYED2KFyPwq1gQB+F61G45mBAMzMzMzPzYEDhehSuR/FgQIXrUbge/WBA9ihcj8IdYUDhehSuR1FhQKRwPQrXQ2FAj8L1KFxPYUAfhetRuGZhQOxRuB6Fa2FArkfhehRGYUAUrkfhehxhQIXrUbgeLWFAexSuR+HqYEAK16NwPTphQHE9CtejOGFAcT0K16PYYUAfhetRuM5hQM3MzMzMvGFAcT0K16PoYUAUrkfhetRhQGZmZmZm5mFAexSuR+HqYUBI4XoUrtdhQNejcD0Kx2FA7FG4HoXLYUBmZmZmZvZhQFyPwvUoFGJAexSuR+EiYkCkcD0K1ytiQAAAAAAAaGJAXI/C9SiMYkD2KFyPwqViQKRwPQrXo2JA16NwPQqHYkAUrkfhepxiQArXo3A9mmJAPQrXo3DFYkBcj8L1KORiQM3MzMzM3GJA7FG4HoXTYkDD9Shcj0piQB+F61G4nmJApHA9CtebYkCamZmZmbliQFyPwvUovGJAMzMzMzPDYkB7FK5H4cpiQGZmZmZmzmJA4XoUrkf5YkAUrkfhejxjQNejcD0KR2NAw/UoXI8iY0ApXI/C9RhjQOxRuB6Fg2NApHA9CtebY0BI4XoUrodjQArXo3A9imNArkfhehTGY0BI4XoUrrdjQClcj8L1cGNA\",\"dtype\":\"float64\",\"shape\":[63]},\"Stock Splits\":[0,0,0,0,0,0,0,0,0,0,0,0,0,0,0,0,0,0,0,0,0,0,0,0,0,0,0,0,0,0,0,0,0,0,0,0,0,0,0,0,0,0,0,0,0,0,0,0,0,0,0,0,0,0,0,0,0,0,0,0,0,0,0],\"Volume\":[30521700,24132900,22897700,15303700,25550500,19749900,17654600,25446000,13304300,19695700,20751600,21460600,32273500,20078200,27431000,29844600,37029300,25959700,35280100,20589500,18496600,24605100,33128400,16912000,18250200,16575800,17786700,16732700,14362600,18641600,16919200,19729800,23485700,21534000,23935700,25696800,18576100,15901800,22420900,24620100,15184400,11977300,27418400,24066000,17574700,17869100,16403500,16687400,16476100,18856600,24612100,23845400,24144200,25425600,24129200,24958900,53477500,17718200,8989200,14520600,18412800,16348400,18369400],\"index\":[0,1,2,3,4,5,6,7,8,9,10,11,12,13,14,15,16,17,18,19,20,21,22,23,24,25,26,27,28,29,30,31,32,33,34,35,36,37,38,39,40,41,42,43,44,45,46,47,48,49,50,51,52,53,54,55,56,57,58,59,60,61,62]},\"selected\":{\"id\":\"12839\"},\"selection_policy\":{\"id\":\"12838\"}},\"id\":\"12782\",\"type\":\"ColumnDataSource\"},{\"attributes\":{\"line_color\":{\"value\":\"#d62728\"},\"x0\":{\"field\":\"index\"},\"x1\":{\"field\":\"index\"},\"y0\":{\"field\":\"Low\"},\"y1\":{\"field\":\"High\"}},\"id\":\"12816\",\"type\":\"Segment\"},{\"attributes\":{\"toolbar\":{\"id\":\"12890\"},\"toolbar_location\":\"above\"},\"id\":\"12891\",\"type\":\"ToolbarBox\"},{\"attributes\":{},\"id\":\"12839\",\"type\":\"Selection\"},{\"attributes\":{\"callback\":null,\"formatters\":{\"Date\":\"datetime\"},\"names\":[\"price\"],\"tooltips\":[[\"Datetime\",\"@Date\"],[\"Open\",\"@Open{$0,0.00}\"],[\"Close\",\"@Close{$0,0.00}\"],[\"Volume\",\"@Volume{($ 0.00 a)}\"]]},\"id\":\"12804\",\"type\":\"HoverTool\"},{\"attributes\":{\"line_color\":\"#1f77b4\",\"x\":{\"field\":\"date\"},\"y\":{\"field\":\"rsi_14\"}},\"id\":\"12870\",\"type\":\"Line\"},{\"attributes\":{\"data_source\":{\"id\":\"12782\"},\"glyph\":{\"id\":\"12816\"},\"hover_glyph\":null,\"muted_glyph\":null,\"nonselection_glyph\":{\"id\":\"12817\"},\"selection_glyph\":null,\"view\":{\"id\":\"12812\"}},\"id\":\"12818\",\"type\":\"GlyphRenderer\"},{\"attributes\":{\"line_alpha\":0.1,\"line_color\":\"#1f77b4\",\"x\":{\"field\":\"date\"},\"y\":{\"field\":\"rsi_14\"}},\"id\":\"12871\",\"type\":\"Line\"},{\"attributes\":{},\"id\":\"12860\",\"type\":\"WheelZoomTool\"},{\"attributes\":{},\"id\":\"12859\",\"type\":\"PanTool\"},{\"attributes\":{},\"id\":\"12886\",\"type\":\"UnionRenderers\"},{\"attributes\":{\"data_source\":{\"id\":\"12868\"},\"glyph\":{\"id\":\"12870\"},\"hover_glyph\":null,\"muted_glyph\":null,\"nonselection_glyph\":{\"id\":\"12871\"},\"selection_glyph\":null,\"view\":{\"id\":\"12873\"}},\"id\":\"12872\",\"type\":\"GlyphRenderer\"},{\"attributes\":{},\"id\":\"12788\",\"type\":\"DataRange1d\"},{\"attributes\":{},\"id\":\"12805\",\"type\":\"ResetTool\"},{\"attributes\":{\"line_alpha\":{\"value\":0.1},\"line_color\":{\"value\":\"#d62728\"},\"x0\":{\"field\":\"index\"},\"x1\":{\"field\":\"index\"},\"y0\":{\"field\":\"Low\"},\"y1\":{\"field\":\"High\"}},\"id\":\"12817\",\"type\":\"Segment\"},{\"attributes\":{\"below\":[{\"id\":\"12794\"}],\"center\":[{\"id\":\"12797\"},{\"id\":\"12801\"}],\"left\":[{\"id\":\"12798\"}],\"plot_height\":500,\"plot_width\":800,\"renderers\":[{\"id\":\"12818\"},{\"id\":\"12822\"},{\"id\":\"12826\"},{\"id\":\"12830\"}],\"sizing_mode\":\"scale_width\",\"title\":{\"id\":\"12784\"},\"toolbar\":{\"id\":\"12806\"},\"toolbar_location\":null,\"x_range\":{\"id\":\"12786\"},\"x_scale\":{\"id\":\"12790\"},\"y_range\":{\"id\":\"12788\"},\"y_scale\":{\"id\":\"12792\"}},\"id\":\"12783\",\"subtype\":\"Figure\",\"type\":\"Plot\"},{\"attributes\":{},\"id\":\"12790\",\"type\":\"LinearScale\"},{\"attributes\":{\"axis\":{\"id\":\"12855\"},\"dimension\":1,\"ticker\":null},\"id\":\"12858\",\"type\":\"Grid\"},{\"attributes\":{\"callback\":null},\"id\":\"12861\",\"type\":\"HoverTool\"},{\"attributes\":{},\"id\":\"12803\",\"type\":\"WheelZoomTool\"},{\"attributes\":{\"desired_num_ticks\":40},\"id\":\"12795\",\"type\":\"BasicTicker\"},{\"attributes\":{},\"id\":\"12882\",\"type\":\"BasicTickFormatter\"},{\"attributes\":{\"children\":[[{\"id\":\"12783\"},0,0],[{\"id\":\"12840\"},1,0]]},\"id\":\"12889\",\"type\":\"GridBox\"},{\"attributes\":{\"text\":\"Stock price\"},\"id\":\"12784\",\"type\":\"Title\"},{\"attributes\":{\"line_alpha\":{\"value\":0.1},\"line_color\":{\"value\":\"#2ca02c\"},\"x0\":{\"field\":\"index\"},\"x1\":{\"field\":\"index\"},\"y0\":{\"field\":\"Low\"},\"y1\":{\"field\":\"High\"}},\"id\":\"12821\",\"type\":\"Segment\"},{\"attributes\":{},\"id\":\"12884\",\"type\":\"BasicTickFormatter\"},{\"attributes\":{},\"id\":\"12843\",\"type\":\"DataRange1d\"},{\"attributes\":{},\"id\":\"12856\",\"type\":\"BasicTicker\"},{\"attributes\":{\"line_color\":{\"value\":\"#2ca02c\"},\"x0\":{\"field\":\"index\"},\"x1\":{\"field\":\"index\"},\"y0\":{\"field\":\"Low\"},\"y1\":{\"field\":\"High\"}},\"id\":\"12820\",\"type\":\"Segment\"},{\"attributes\":{\"formatter\":{\"id\":\"12882\"},\"minor_tick_line_color\":null,\"ticker\":{\"id\":\"12856\"}},\"id\":\"12855\",\"type\":\"LinearAxis\"},{\"attributes\":{\"below\":[{\"id\":\"12851\"}],\"center\":[{\"id\":\"12854\"},{\"id\":\"12858\"}],\"left\":[{\"id\":\"12855\"}],\"plot_height\":100,\"plot_width\":800,\"renderers\":[{\"id\":\"12872\"}],\"sizing_mode\":\"scale_width\",\"title\":{\"id\":\"12841\"},\"toolbar\":{\"id\":\"12863\"},\"toolbar_location\":null,\"x_range\":{\"id\":\"12843\"},\"x_scale\":{\"id\":\"12847\"},\"y_range\":{\"id\":\"12845\"},\"y_scale\":{\"id\":\"12849\"}},\"id\":\"12840\",\"subtype\":\"Figure\",\"type\":\"Plot\"},{\"attributes\":{\"axis\":{\"id\":\"12851\"},\"ticker\":null},\"id\":\"12854\",\"type\":\"Grid\"},{\"attributes\":{\"data_source\":{\"id\":\"12782\"},\"glyph\":{\"id\":\"12820\"},\"hover_glyph\":null,\"muted_glyph\":null,\"nonselection_glyph\":{\"id\":\"12821\"},\"selection_glyph\":null,\"view\":{\"id\":\"12814\"}},\"id\":\"12822\",\"type\":\"GlyphRenderer\"},{\"attributes\":{\"data\":{\"close\":{\"__ndarray__\":\"XI/C9SikYEAAAAAAANhgQArXo3A9EmFAw/UoXI/yYEAUrkfhesRgQPYoXI/CFWFAKVyPwvUwYUDsUbgehUNhQI/C9ShcP2FAj8L1KFx/YUDD9Shcj1phQKRwPQrXQ2FA7FG4HoX7YECkcD0K1xthQMP1KFyP2mBAZmZmZmb2YEDsUbgehUthQM3MzMzMZGFACtejcD3SYUDXo3A9CqdhQI/C9Shc32FAuB6F61G4YUAzMzMzM8NhQD0K16Nw3WFAw/UoXI/aYUCuR+F6FM5hQBSuR+F61GFACtejcD0KYkDXo3A9Cg9iQIXrUbgeLWJAzczMzMw0YkAUrkfhekxiQClcj8L1iGJAzczMzMyUYkBmZmZmZpZiQK5H4XoUjmJAmpmZmZmJYkCF61G4Ho1iQOF6FK5HwWJAw/UoXI/aYkCkcD0K1+NiQK5H4XoUxmJApHA9CteLYkBcj8L1KIRiQD0K16NwlWJAAAAAAACYYkCamZmZmdFiQD0K16NwxWJArkfhehS+YkAAAAAAANBiQClcj8L1AGNAUrgehespY0CamZmZmUljQNejcD0KL2NAzczMzMwkY0CPwvUoXE9jQD0K16NwhWNAPQrXo3CFY0AUrkfheoRjQD0K16NwrWNAH4XrUbi2Y0AzMzMzM4tjQB+F61G4jmNA\",\"dtype\":\"float64\",\"shape\":[63]},\"close_-1_d\":{\"__ndarray__\":\"AAAAAAAA+H8AUrgehev5PwCF61G4Hv0/AEfhehSu77+A16NwPQr3v4C4HoXrUQRAADMzMzMz6z8Aw/UoXI/iPwB0PQrXo8C/AAAAAAAAAEAAZmZmZmbyvwAfhetRuOa/AK5H4XoUAsAAXI/C9SjwP0C4HoXrUQDAAKNwPQrX6z+A4XoUrkcFQADhehSuR+k/QI/C9ShcC0CAmZmZmZn1vwBcj8L1KPw/gOtRuB6F878A9ihcj8LVPwAK16NwPeo/ANCjcD0Kt78AKlyPwvXYvwCYmZmZmck/AHsUrkfh+j8ANDMzMzPDPwCuR+F6FO4/ACCF61G4zj8AR+F6FK7nP4AK16NwPf4/AEjhehSu1z8AkJmZmZmpPwBwPQrXo9C/AFC4HoXrwb8AWI/C9Si8PwCuR+F6FPo/AOJ6FK5H6T8AwvUoXI/SPwD2KFyPwu2/AIXrUbge/b8AIIXrUbjOvwDhehSuR+E/ABiuR+F6tD8AzczMzMz8PwC6HoXrUdi/ADwK16Nwzb8AUrgehevhP4AUrkfhevg/gBSuR+F69D8ASOF6FK7vPwDD9Shcj+q/ABSuR+F61L8A4XoUrkf1PwDXo3A9Cvs/AAAAAAAAAAAAIIXrUbiev4AUrkfhevQ/AMT1KFyP0j8A9ihcj8L1vwBgj8L1KLw/\",\"dtype\":\"float64\",\"shape\":[63]},\"close_-1_s\":{\"__ndarray__\":\"AAAAAAAA+H9cj8L1KKRgQAAAAAAA2GBACtejcD0SYUDD9Shcj/JgQBSuR+F6xGBA9ihcj8IVYUApXI/C9TBhQOxRuB6FQ2FAj8L1KFw/YUCPwvUoXH9hQMP1KFyPWmFApHA9CtdDYUDsUbgehftgQKRwPQrXG2FAw/UoXI/aYEBmZmZmZvZgQOxRuB6FS2FAzczMzMxkYUAK16NwPdJhQNejcD0Kp2FAj8L1KFzfYUC4HoXrUbhhQDMzMzMzw2FAPQrXo3DdYUDD9Shcj9phQK5H4XoUzmFAFK5H4XrUYUAK16NwPQpiQNejcD0KD2JAhetRuB4tYkDNzMzMzDRiQBSuR+F6TGJAKVyPwvWIYkDNzMzMzJRiQGZmZmZmlmJArkfhehSOYkCamZmZmYliQIXrUbgejWJA4XoUrkfBYkDD9Shcj9piQKRwPQrX42JArkfhehTGYkCkcD0K14tiQFyPwvUohGJAPQrXo3CVYkAAAAAAAJhiQJqZmZmZ0WJAPQrXo3DFYkCuR+F6FL5iQAAAAAAA0GJAKVyPwvUAY0BSuB6F6yljQJqZmZmZSWNA16NwPQovY0DNzMzMzCRjQI/C9ShcT2NAPQrXo3CFY0A9CtejcIVjQBSuR+F6hGNAPQrXo3CtY0AfhetRuLZjQDMzMzMzi2NA\",\"dtype\":\"float64\",\"shape\":[63]},\"date\":{\"__ndarray__\":\"AABAQ5zYdkIAAACp7th2QgAAwA5B2XZCAAAAQDjadkIAAMClitp2QgAAgAvd2nZCAABAcS/bdkIAAADXgdt2QgAAQAh53HZCAAAAbsvcdkIAAMDTHd12QgAAgDlw3XZCAABAn8LddkIAAIDQud52QgAAQDYM33ZCAAAAnF7fdkIAAMABsd92QgAAgGcD4HZCAADAmPrgdkIAAID+TOF2QgAAQGSf4XZCAAAAyvHhdkIAAMAvROJ2QgAAAGE743ZCAADAxo3jdkIAAIAs4ON2QgAAQJIy5HZCAAAA+ITkdkIAAEApfOV2QgAAAI/O5XZCAADA9CDmdkIAAIBac+Z2QgAAQMDF5nZCAACA8bzndkIAAEBXD+h2QgAAAL1h6HZCAADAIrTodkIAAICIBul2QgAAwLn96XZCAACAH1DqdkIAAECFoup2QgAAwFBH63ZCAAAAgj7sdkIAAMDnkOx2QgAAgE3j7HZCAABAszXtdkIAAAAZiO12QgAAQEp/7nZCAAAAsNHudkIAAMAVJO92QgAAgHt273ZCAABA4cjvdkIAAIASwPB2QgAAQHgS8XZCAAAA3mTxdkIAAMBDt/F2QgAAgKkJ8nZCAADA2gDzdkIAAIBAU/N2QgAAAAz483ZCAADAcUr0dkIAAACjQfV2QgAAwAiU9XZC\",\"dtype\":\"float64\",\"shape\":[63]},\"dividends\":{\"__ndarray__\":\"AAAAAAAAAAAAAAAAAAAAAAAAAAAAAAAAAAAAAAAAAAAAAAAAAAAAAAAAAAAAAAAAAAAAAAAAAAAAAAAAAAAAAAAAAAAAAAAAAAAAAAAAAAAAAAAAAAAAAAAAAAAAAAAAAAAAAAAAAAAAAAAAAAAAAAAAAAAAAAAAAAAAAAAAAAAAAAAAAAAAAAAAAAAAAAAAAAAAAAAAAAAAAAAAAAAAAAAAAAAAAAAAAAAAAAAAAAAAAAAAAAAAAAAAAAAAAAAAAAAAAAAAAAAAAAAAAAAAAAAAAAAAAAAAAAAAAAAAAAAAAAAAAAAAAAAAAAAAAAAAAAAAAAAAAAAAAAAAAAAAAAAAAAAAAAAAAAAAAAAAAAAAAAAAAAAAAFK4HoXrUeA/AAAAAAAAAAAAAAAAAAAAAAAAAAAAAAAAAAAAAAAAAAAAAAAAAAAAAAAAAAAAAAAAAAAAAAAAAAAAAAAAAAAAAAAAAAAAAAAAAAAAAAAAAAAAAAAAAAAAAAAAAAAAAAAAAAAAAAAAAAAAAAAAAAAAAAAAAAAAAAAAAAAAAAAAAAAAAAAAAAAAAAAAAAAAAAAAAAAAAAAAAAAAAAAAAAAAAAAAAAAAAAAAAAAAAAAAAAAAAAAAAAAAAAAAAAAAAAAAAAAAAAAAAAAAAAAAAAAAAAAAAAAAAAAA\",\"dtype\":\"float64\",\"shape\":[63]},\"high\":{\"__ndarray__\":\"w/UoXI/aYEAfhetRuOZgQK5H4XoUFmFApHA9CtcTYUAfhetRuAZhQBSuR+F6JGFAMzMzMzNDYUCuR+F6FG5hQB+F61G4VmFArkfhehSGYUDNzMzMzGxhQMP1KFyPemFAPQrXo3BNYUCuR+F6FB5hQPYoXI/CTWFAzczMzMz8YEB7FK5H4VphQJqZmZmZcWFAKVyPwvUAYkCkcD0K19thQKRwPQrX62FAmpmZmZnpYUDhehSuR9lhQKRwPQrX62FAFK5H4XrsYUAUrkfhetxhQAAAAAAA6GFAMzMzMzMLYkBxPQrXoxhiQIXrUbgePWJAmpmZmZk5YkBI4XoUrldiQJqZmZmZiWJA7FG4HoWbYkBcj8L1KLRiQM3MzMzMtGJApHA9CteTYkDsUbgehaNiQIXrUbgexWJA16NwPQrnYkCamZmZmeliQDMzMzMz42JAXI/C9SjUYkAAAAAAAIhiQEjhehSun2JAXI/C9SikYkA9CtejcNViQLgehetR4GJArkfhehTWYkA9CtejcNViQI/C9ShcB2NAPQrXo3A1Y0A9CtejcFVjQI/C9ShcT2NAAAAAAABIY0DhehSuR1FjQEjhehSup2NApHA9CtebY0DXo3A9Co9jQI/C9Shcr2NA4XoUrkfJY0BxPQrXo7hjQHE9CtejkGNA\",\"dtype\":\"float64\",\"shape\":[63]},\"low\":{\"__ndarray__\":\"w/UoXI+CYEDXo3A9CndgQFyPwvUo3GBAj8L1KFzvYEB7FK5H4cJgQPYoXI/C7WBArkfhehQWYUD2KFyPwj1hQGZmZmZmPmFASOF6FK5HYUAfhetRuD5hQB+F61G4LmFAcT0K16PgYEDXo3A9Cu9gQI/C9Shc12BAw/UoXI/CYEDsUbgehSNhQFyPwvUoNGFAFK5H4Xq8YUDhehSuR6FhQPYoXI/CpWFAXI/C9SisYUDsUbgehathQOF6FK5H0WFA4XoUrkfJYUB7FK5H4bJhQM3MzMzMxGFAFK5H4XrEYUAzMzMzM+NhQD0K16NwDWJAXI/C9SgUYkAzMzMzMytiQDMzMzMzU2JAmpmZmZlpYkC4HoXrUZBiQOF6FK5HaWJAw/UoXI9qYkDNzMzMzHRiQEjhehSul2JAXI/C9SjEYkAK16NwPcpiQHsUrkfhwmJAzczMzMxkYkBI4XoUri9iQHE9CtejgGJAmpmZmZmJYkDD9Shcj6JiQNejcD0Kt2JACtejcD2yYkAUrkfheqRiQMP1KFyPumJApHA9CtfzYkAzMzMzMzNjQI/C9ShcJ2NAH4XrUbgeY0DhehSuRxFjQFK4HoXrYWNAKVyPwvWAY0Bcj8L1KHxjQIXrUbgehWNA16NwPQqfY0BI4XoUrm9jQNejcD0KZ2NA\",\"dtype\":\"float64\",\"shape\":[63]},\"open\":{\"__ndarray__\":\"16NwPQrXYED2KFyPwq1gQB+F61G45mBAMzMzMzPzYEDhehSuR/FgQIXrUbge/WBA9ihcj8IdYUDhehSuR1FhQKRwPQrXQ2FAj8L1KFxPYUAfhetRuGZhQOxRuB6Fa2FArkfhehRGYUAUrkfhehxhQIXrUbgeLWFAexSuR+HqYEAK16NwPTphQHE9CtejOGFAcT0K16PYYUAfhetRuM5hQM3MzMzMvGFAcT0K16PoYUAUrkfhetRhQGZmZmZm5mFAexSuR+HqYUBI4XoUrtdhQNejcD0Kx2FA7FG4HoXLYUBmZmZmZvZhQFyPwvUoFGJAexSuR+EiYkCkcD0K1ytiQAAAAAAAaGJAXI/C9SiMYkD2KFyPwqViQKRwPQrXo2JA16NwPQqHYkAUrkfhepxiQArXo3A9mmJAPQrXo3DFYkBcj8L1KORiQM3MzMzM3GJA7FG4HoXTYkDD9Shcj0piQB+F61G4nmJApHA9CtebYkCamZmZmbliQFyPwvUovGJAMzMzMzPDYkB7FK5H4cpiQGZmZmZmzmJA4XoUrkf5YkAUrkfhejxjQNejcD0KR2NAw/UoXI8iY0ApXI/C9RhjQOxRuB6Fg2NApHA9CtebY0BI4XoUrodjQArXo3A9imNArkfhehTGY0BI4XoUrrdjQClcj8L1cGNA\",\"dtype\":\"float64\",\"shape\":[63]},\"rs_14\":{\"__ndarray__\":\"AAAAAAAA+H8AAAAAAADwfwAAAAAAAPB/CDWv2LLxCEBuY7IsUnDzP4shOfyi/gJAl34PWF5WBkAH06IoMssIQLpuosY8FQdA52SXikEdEEDifWyKx94CQC/gnvw2lv0/lPBDYYH/8D/RTPecRUb0P66PGaqnDew/R0p0RIpK8D8w2v1mVr/3P0q2l/PXIfo/zXOcgAygAkA4Hhx3hsH8PwGaSylz8ABAOg1YtepX+z+nMfuZDEX8P6EPeBzzrP4/yuJ9wtAj/j80zi9jad77P+H7En/diPw/tEy8OWhHAUCY4FQPipEBQMFmexzWhQNAIe7yyGUPBEAHZIbhK9gFQNlb6GuJwApA/+vcW2nJC0CCIzR19e8LQLY6r9IARglAVcl6YgDzB0DplKixzE0IQHVfYVvC9g1AtU5XiYR1EEDPf4BwAQsRQOv1RBs4qQZA8/+V91qP+j82zGnJ0hX5P/eOtcXmPPs/Uzwxn9KU+z8TPqSQnPMBQIEgpGimDQBAbAj5RE0J/j8FIYip614AQBHCzJvAWQRA/HxMnKzvB0AE4bbMPewKQG0GamDBIgRAJQ+s4FU6AkBwIRAm5p4FQE6mcK11QwpATqZwrXVDCkBdyTeEE/QJQA0TCdAkSw5Aba1NzTtaD0B9hZpwasoCQL2vTsjjEQNA\",\"dtype\":\"float64\",\"shape\":[63]},\"rsi_14\":{\"__ndarray__\":\"AAAAAAAA+H8AAAAAAABZQAAAAAAAAFlAecvEl9rtUkAb2zAJBG1LQA4gq2BUl1FAUjUUGlBoUkA42f3jueZSQEi9V4/LkFJAVzdIv0UHVECl7fmxi45RQAoUDQ28OVBAye8/dpPBSUBVGYYcKfJLQIaSAJVlW0dAVVYwmLU5SUCR+oGadt9NQEKjhiMcA09AB+dNUwJ9UUCKza5VCRBQQGopaQcD+1BAUc+rUfKKT0CZOKQ90O1PQDa2/y4iblBAS3xmtalUUEB/plCXiMNPQIrF522qBFBAyWYbIJkWUUCYl2V7iS1RQHa/4Vq5u1FArmHDHVnfUUCkaKS3b0xSQOossyW1PlNA8ME/rk1pU0DYc85HTG9TQN7gGFE8/VJAODPQCnW9UkBouDViDc9SQFXppbhZu1NAo5SaYLgcVED2tyRhcT9UQLObB3wgelJAIQ8fxvczT0BAk0kOPodOQK64mBFqf09AIYdLsL2kT0ABiwnhGEtRQCycOFBlr1BAVaF/h6tPUECIq0yuH8tQQJA1GpwK8lFAOSI+Fc68UkC4xuvq6EVTQAhERoBA5FFATqzL1+BfUUB1smuhej9SQBdK5fiyKVNAF0rl+LIpU0CaRSdIDRxTQIIQtqP1xlNAWuQlMfDqU0Ah4aZa44hRQPyFU1yZnFFA\",\"dtype\":\"float64\",\"shape\":[63]},\"stock splits\":[0,0,0,0,0,0,0,0,0,0,0,0,0,0,0,0,0,0,0,0,0,0,0,0,0,0,0,0,0,0,0,0,0,0,0,0,0,0,0,0,0,0,0,0,0,0,0,0,0,0,0,0,0,0,0,0,0,0,0,0,0,0,0],\"volume\":[30521700,24132900,22897700,15303700,25550500,19749900,17654600,25446000,13304300,19695700,20751600,21460600,32273500,20078200,27431000,29844600,37029300,25959700,35280100,20589500,18496600,24605100,33128400,16912000,18250200,16575800,17786700,16732700,14362600,18641600,16919200,19729800,23485700,21534000,23935700,25696800,18576100,15901800,22420900,24620100,15184400,11977300,27418400,24066000,17574700,17869100,16403500,16687400,16476100,18856600,24612100,23845400,24144200,25425600,24129200,24958900,53477500,17718200,8989200,14520600,18412800,16348400,18369400]},\"selected\":{\"id\":\"12887\"},\"selection_policy\":{\"id\":\"12886\"}},\"id\":\"12868\",\"type\":\"ColumnDataSource\"},{\"attributes\":{\"bounds\":[0,62],\"formatter\":{\"id\":\"12836\"},\"major_label_orientation\":0.785,\"major_label_overrides\":{\"0\":\"Oct 02\",\"1\":\"Oct 03\",\"10\":\"Oct 16\",\"11\":\"Oct 17\",\"12\":\"Oct 18\",\"13\":\"Oct 21\",\"14\":\"Oct 22\",\"15\":\"Oct 23\",\"16\":\"Oct 24\",\"17\":\"Oct 25\",\"18\":\"Oct 28\",\"19\":\"Oct 29\",\"2\":\"Oct 04\",\"20\":\"Oct 30\",\"21\":\"Oct 31\",\"22\":\"Nov 01\",\"23\":\"Nov 04\",\"24\":\"Nov 05\",\"25\":\"Nov 06\",\"26\":\"Nov 07\",\"27\":\"Nov 08\",\"28\":\"Nov 11\",\"29\":\"Nov 12\",\"3\":\"Oct 07\",\"30\":\"Nov 13\",\"31\":\"Nov 14\",\"32\":\"Nov 15\",\"33\":\"Nov 18\",\"34\":\"Nov 19\",\"35\":\"Nov 20\",\"36\":\"Nov 21\",\"37\":\"Nov 22\",\"38\":\"Nov 25\",\"39\":\"Nov 26\",\"4\":\"Oct 08\",\"40\":\"Nov 27\",\"41\":\"Nov 29\",\"42\":\"Dec 02\",\"43\":\"Dec 03\",\"44\":\"Dec 04\",\"45\":\"Dec 05\",\"46\":\"Dec 06\",\"47\":\"Dec 09\",\"48\":\"Dec 10\",\"49\":\"Dec 11\",\"5\":\"Oct 09\",\"50\":\"Dec 12\",\"51\":\"Dec 13\",\"52\":\"Dec 16\",\"53\":\"Dec 17\",\"54\":\"Dec 18\",\"55\":\"Dec 19\",\"56\":\"Dec 20\",\"57\":\"Dec 23\",\"58\":\"Dec 24\",\"59\":\"Dec 26\",\"6\":\"Oct 10\",\"60\":\"Dec 27\",\"61\":\"Dec 30\",\"62\":\"Dec 31\",\"7\":\"Oct 11\",\"8\":\"Oct 14\",\"9\":\"Oct 15\"},\"ticker\":{\"id\":\"12795\"}},\"id\":\"12794\",\"type\":\"LinearAxis\"},{\"attributes\":{\"axis\":{\"id\":\"12794\"},\"ticker\":null},\"id\":\"12797\",\"type\":\"Grid\"},{\"attributes\":{\"data_source\":{\"id\":\"12782\"},\"glyph\":{\"id\":\"12824\"},\"hover_glyph\":null,\"muted_glyph\":null,\"name\":\"price\",\"nonselection_glyph\":{\"id\":\"12825\"},\"selection_glyph\":null,\"view\":{\"id\":\"12812\"}},\"id\":\"12826\",\"type\":\"GlyphRenderer\"},{\"attributes\":{\"text\":\"RSI\"},\"id\":\"12841\",\"type\":\"Title\"},{\"attributes\":{},\"id\":\"12799\",\"type\":\"BasicTicker\"},{\"attributes\":{\"range_padding\":0.05},\"id\":\"12786\",\"type\":\"DataRange1d\"},{\"attributes\":{\"booleans\":[true,false,false,true,true,false,false,true,true,false,true,true,true,true,true,false,false,false,true,true,false,true,true,true,true,true,false,false,false,false,false,false,false,false,true,true,false,true,false,false,true,true,true,false,true,true,false,false,true,false,false,false,false,true,false,false,false,true,true,false,true,true,false]},\"id\":\"12813\",\"type\":\"BooleanFilter\"},{\"attributes\":{},\"id\":\"12887\",\"type\":\"Selection\"},{\"attributes\":{},\"id\":\"12852\",\"type\":\"BasicTicker\"},{\"attributes\":{\"data_source\":{\"id\":\"12782\"},\"glyph\":{\"id\":\"12828\"},\"hover_glyph\":null,\"muted_glyph\":null,\"name\":\"price\",\"nonselection_glyph\":{\"id\":\"12829\"},\"selection_glyph\":null,\"view\":{\"id\":\"12814\"}},\"id\":\"12830\",\"type\":\"GlyphRenderer\"},{\"attributes\":{\"booleans\":[false,true,true,false,false,true,true,false,false,true,false,false,false,false,false,true,true,true,false,false,true,false,false,false,false,false,true,true,true,true,true,true,true,true,false,false,true,false,true,true,false,false,false,true,false,false,true,true,false,true,true,true,true,false,true,true,true,false,false,true,false,false,true]},\"id\":\"12811\",\"type\":\"BooleanFilter\"},{\"attributes\":{\"bottom\":{\"field\":\"Close\"},\"fill_alpha\":{\"value\":0.1},\"fill_color\":{\"value\":\"#1f77b4\"},\"line_alpha\":{\"value\":0.1},\"line_color\":{\"value\":\"#1f77b4\"},\"top\":{\"field\":\"Open\"},\"width\":{\"value\":0.2},\"x\":{\"field\":\"index\"}},\"id\":\"12825\",\"type\":\"VBar\"},{\"attributes\":{},\"id\":\"12849\",\"type\":\"LinearScale\"},{\"attributes\":{},\"id\":\"12862\",\"type\":\"ResetTool\"},{\"attributes\":{\"formatter\":{\"id\":\"12884\"},\"minor_tick_line_color\":null,\"ticker\":{\"id\":\"12852\"},\"visible\":false},\"id\":\"12851\",\"type\":\"LinearAxis\"},{\"attributes\":{\"end\":100},\"id\":\"12845\",\"type\":\"Range1d\"},{\"attributes\":{\"active_drag\":\"auto\",\"active_inspect\":\"auto\",\"active_multi\":null,\"active_scroll\":\"auto\",\"active_tap\":\"auto\",\"tools\":[{\"id\":\"12802\"},{\"id\":\"12803\"},{\"id\":\"12804\"},{\"id\":\"12805\"}]},\"id\":\"12806\",\"type\":\"Toolbar\"},{\"attributes\":{\"active_drag\":\"auto\",\"active_inspect\":\"auto\",\"active_multi\":null,\"active_scroll\":\"auto\",\"active_tap\":\"auto\",\"tools\":[{\"id\":\"12859\"},{\"id\":\"12860\"},{\"id\":\"12861\"},{\"id\":\"12862\"}]},\"id\":\"12863\",\"type\":\"Toolbar\"},{\"attributes\":{\"bottom\":{\"field\":\"Close\"},\"fill_color\":{\"value\":\"#1f77b4\"},\"line_color\":{\"value\":\"#1f77b4\"},\"top\":{\"field\":\"Open\"},\"width\":{\"value\":0.2},\"x\":{\"field\":\"index\"}},\"id\":\"12824\",\"type\":\"VBar\"},{\"attributes\":{\"format\":\"$ 0,0[.]000\"},\"id\":\"12831\",\"type\":\"NumeralTickFormatter\"},{\"attributes\":{\"axis\":{\"id\":\"12798\"},\"dimension\":1,\"ticker\":null},\"id\":\"12801\",\"type\":\"Grid\"},{\"attributes\":{},\"id\":\"12802\",\"type\":\"PanTool\"},{\"attributes\":{\"formatter\":{\"id\":\"12831\"},\"ticker\":{\"id\":\"12799\"}},\"id\":\"12798\",\"type\":\"LinearAxis\"},{\"attributes\":{\"filters\":[{\"id\":\"12811\"}],\"source\":{\"id\":\"12782\"}},\"id\":\"12812\",\"type\":\"CDSView\"},{\"attributes\":{\"bottom\":{\"field\":\"Close\"},\"fill_alpha\":{\"value\":0.1},\"fill_color\":{\"value\":\"#d62728\"},\"line_alpha\":{\"value\":0.1},\"line_color\":{\"value\":\"#d62728\"},\"top\":{\"field\":\"Open\"},\"width\":{\"value\":0.2},\"x\":{\"field\":\"index\"}},\"id\":\"12829\",\"type\":\"VBar\"}],\"root_ids\":[\"12892\"]},\"title\":\"Bokeh Application\",\"version\":\"2.0.2\"}};\n",
       "  var render_items = [{\"docid\":\"7e0c6ede-fe84-470f-b0b8-ad1cf7cd7f82\",\"root_ids\":[\"12892\"],\"roots\":{\"12892\":\"0881cc37-8409-4a6f-b5f9-3c3eaf5f8a61\"}}];\n",
       "  root.Bokeh.embed.embed_items_notebook(docs_json, render_items);\n",
       "\n",
       "  }\n",
       "  if (root.Bokeh !== undefined) {\n",
       "    embed_document(root);\n",
       "  } else {\n",
       "    var attempts = 0;\n",
       "    var timer = setInterval(function(root) {\n",
       "      if (root.Bokeh !== undefined) {\n",
       "        clearInterval(timer);\n",
       "        embed_document(root);\n",
       "      } else {\n",
       "        attempts++;\n",
       "        if (attempts > 100) {\n",
       "          clearInterval(timer);\n",
       "          console.log(\"Bokeh: ERROR: Unable to run BokehJS code because BokehJS library is missing\");\n",
       "        }\n",
       "      }\n",
       "    }, 10, root)\n",
       "  }\n",
       "})(window);"
      ],
      "application/vnd.bokehjs_exec.v0+json": ""
     },
     "metadata": {
      "application/vnd.bokehjs_exec.v0+json": {
       "id": "12892"
      }
     },
     "output_type": "display_data"
    }
   ],
   "source": [
    "#Initiate ticker\n",
    "symbol = 'MSFT'\n",
    "p_stock = plot_stock_price(symbol)\n",
    "\n",
    "ticker = 'MSFT'\n",
    "df = get_symbol_df(ticker)\n",
    "rsi = plot_rsi(df)\n",
    "\n",
    "\n",
    "grid = gridplot(\n",
    "    children=[p_stock,rsi],\n",
    "    #toolbar_location='right',\n",
    "    sizing_mode='scale_width',\n",
    "    plot_width=c.W_PLOT,\n",
    "    ncols=1\n",
    ")\n",
    "show(grid)"
   ]
  },
  {
   "cell_type": "code",
   "execution_count": null,
   "metadata": {},
   "outputs": [],
   "source": []
  },
  {
   "cell_type": "code",
   "execution_count": null,
   "metadata": {},
   "outputs": [],
   "source": []
  }
 ],
 "metadata": {
  "kernelspec": {
   "display_name": "Python 3",
   "language": "python",
   "name": "python3"
  },
  "language_info": {
   "codemirror_mode": {
    "name": "ipython",
    "version": 3
   },
   "file_extension": ".py",
   "mimetype": "text/x-python",
   "name": "python",
   "nbconvert_exporter": "python",
   "pygments_lexer": "ipython3",
   "version": "3.6.10"
  }
 },
 "nbformat": 4,
 "nbformat_minor": 4
}
